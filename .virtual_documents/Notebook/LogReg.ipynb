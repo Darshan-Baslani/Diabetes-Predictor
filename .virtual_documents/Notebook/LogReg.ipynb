import pandas as pd
import numpy as np
from sklearn.linear_model import LogisticRegression
from sklearn.metrics import confusion_matrix, accuracy_score, classification_report
from sklearn.model_selection import GridSearchCV, train_test_split
from sklearn.preprocessing import StandardScaler
import pickle
import warnings
warnings.filterwarnings('ignore')


df = pd.read_csv('D:/Diabetes_Detection/Dataset/diabetes.csv')
df.head()


df.isnull().sum()


df.duplicated().sum()


df.describe()


df['Glucose'] = df['Glucose'].replace(0, df['Glucose'].mean())
df['BloodPressure'] = df['BloodPressure'].replace(0, df['BloodPressure'].mean())
df['SkinThickness'] = df['SkinThickness'].replace(0, df['SkinThickness'].mean())
df['Insulin'] = df['Insulin'].replace(0, df['Insulin'].mean())
df['BMI'] = df['BMI'].replace(0, df['BMI'].mean())


df.describe()


X = df.iloc[:,:-1]
y = df.iloc[:,-1]
X, y


X_train, X_test, y_train, y_test = train_test_split(X, y, train_size=0.8, random_state=404, shuffle=False)


X_train.shape, X_test.shape


scaler = StandardScaler()


X_train_scaled = scaler.fit_transform(X_train)
X_test_scaled = scaler.fit_transform(X_test)


regressor = LogisticRegression()


regressor.fit(X_train, y_train)





parameters = {'penalty' : ['l1', 'l2', 'elasticnet', None],
                'C' : np.logspace(0,5,50),
                 'solver' : ['lbfgs', 'liblinear', 'newton-cg', 'newton-cholesky', 'sag', 'saga']}


gs = GridSearchCV(regressor, param_grid=parameters, cv=50)


gs.fit(X_train, y_train)


gs.best_params_


regressor = LogisticRegression(penalty='l2' , C=3.237457542817644, solver='lbfgs')


regressor.fit(X_train, y_train)


y_pred = regressor.predict(X_test)


print(confusion_matrix(y_test, y_pred))
print(accuracy_score(y_test, y_pred))
print(classification_report(y_test, y_pred))


file = open('D:/Diabetes_Detection/Models/Scaler.pkl', 'wb')
pickle.dump(scaler, file)


file = open('D:/Diabetes_Detection/Models/Regressor.pkl', 'wb')
pickle.dump(regressor, file)
